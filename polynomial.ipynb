{
  "nbformat": 4,
  "nbformat_minor": 0,
  "metadata": {
    "colab": {
      "provenance": []
    },
    "kernelspec": {
      "name": "python3",
      "display_name": "Python 3"
    },
    "language_info": {
      "name": "python"
    }
  },
  "cells": [
    {
      "cell_type": "code",
      "execution_count": 3,
      "metadata": {
        "id": "Y-3tdRXqVeMc"
      },
      "outputs": [],
      "source": [
        "import pandas as pd\n",
        "import numpy as np\n",
        "from sklearn.datasets import fetch_california_housing\n",
        "from matplotlib import pyplot as plt"
      ]
    },
    {
      "cell_type": "code",
      "source": [
        "def mse(y_pred, y):\n",
        "  return np.mean((y_pred - y) ** 2)"
      ],
      "metadata": {
        "id": "QYgAEUAoZ2Sb"
      },
      "execution_count": 33,
      "outputs": []
    },
    {
      "cell_type": "code",
      "source": [
        "def transform(x, degree):\n",
        "  columns = x.columns\n",
        "\n",
        "  for col in columns:\n",
        "    for i in range(2, degree + 1):\n",
        "      x[col+\" to the power \" + str(i)] = x[col] ** i\n",
        "  return x"
      ],
      "metadata": {
        "id": "EIyW7OcOaOsW"
      },
      "execution_count": 23,
      "outputs": []
    },
    {
      "cell_type": "code",
      "source": [
        "def pred(x, w, b):\n",
        "  return np.dot(x, w) + b"
      ],
      "metadata": {
        "id": "tagBWyA9gC5V"
      },
      "execution_count": 37,
      "outputs": []
    },
    {
      "cell_type": "code",
      "source": [
        "def normalize(x):\n",
        "  columns = x.columns\n",
        "  for col in columns:\n",
        "    x[col] = (x[col] - x[col].mean()) / x[col].std()\n",
        "  return x\n"
      ],
      "metadata": {
        "id": "qydKz1KfZX51"
      },
      "execution_count": 16,
      "outputs": []
    },
    {
      "cell_type": "code",
      "source": [
        "def train_test_split(x, y, test_size=0.2):\n",
        "  n = x.shape[0]\n",
        "  train_size = int((1 - test_size) * n)\n",
        "  x_train = x.values[:train_size]\n",
        "  y_train = y.values[:train_size]\n",
        "  x_test = x.values[train_size:]\n",
        "  y_test = y.values[train_size:]\n",
        "  return x_train, y_train, x_test, y_test"
      ],
      "metadata": {
        "id": "rWAxexndYKcM"
      },
      "execution_count": 9,
      "outputs": []
    },
    {
      "cell_type": "code",
      "source": [
        "def gradient_descent(x, y, w, b, alpha, epochs=1000):\n",
        "  m = x.shape[0]\n",
        "  n = x.shape[1]\n",
        "\n",
        "  if w.shape[0] != n:\n",
        "    return ValueError(\"number of features n should be equal to number of weights w\")\n",
        "\n",
        "  x_cost = []\n",
        "  num_epochs = []\n",
        "\n",
        "  for epoch in range(epochs):\n",
        "    y_pred = np.dot(x, w) + b\n",
        "    error = y_pred - y\n",
        "    w_grad = (1/m) * np.dot(x.T, error)\n",
        "    b_grad = (1/m) * np.sum(error)\n",
        "\n",
        "    w -= alpha * w_grad\n",
        "    b -= alpha * b_grad\n",
        "\n",
        "    cost = mse(y_pred, y)\n",
        "    x_cost.append(cost)\n",
        "    num_epochs.append(epoch + 1)\n",
        "\n",
        "  plt.figure(figsize=(10, 5))\n",
        "  plt.plot(num_epochs, x_cost)\n",
        "  plt.grid()\n",
        "  plt.xlabel(\"Number of Epochs\")\n",
        "  plt.ylabel(\"Cost\")\n",
        "  plt.title(\"Cost vs Number of Epochs\")\n",
        "  plt.show()\n",
        "\n",
        "  return w, b\n"
      ],
      "metadata": {
        "id": "QqMttKz1bCTB"
      },
      "execution_count": 35,
      "outputs": []
    },
    {
      "cell_type": "code",
      "source": [
        "df = fetch_california_housing(as_frame=True)\n",
        "x = df.data\n",
        "y = df.target\n",
        "x = transform(x, 2)\n",
        "x = x.sample(frac=1).reset_index(drop=True)\n",
        "y = y.sample(frac=1).reset_index(drop=True)"
      ],
      "metadata": {
        "id": "j0I0nNmOXlce"
      },
      "execution_count": 24,
      "outputs": []
    },
    {
      "cell_type": "code",
      "source": [
        "x = normalize(x)\n",
        "x_train, y_train, x_test, y_test = train_test_split(x, y)"
      ],
      "metadata": {
        "id": "u_VnCfEhX9Bm"
      },
      "execution_count": 38,
      "outputs": []
    },
    {
      "cell_type": "code",
      "source": [
        "w = np.zeros(x.shape[1])\n",
        "b = 0\n",
        "alpha = 0.01\n",
        "epochs = 10_000\n",
        "w, b = gradient_descent(x_train, y_train, w, b, alpha, epochs)"
      ],
      "metadata": {
        "colab": {
          "base_uri": "https://localhost:8080/",
          "height": 507
        },
        "id": "xtRpwB47aLdK",
        "outputId": "faed1037-37c1-4c63-9b68-00bf18476cc7"
      },
      "execution_count": 39,
      "outputs": [
        {
          "output_type": "display_data",
          "data": {
            "text/plain": [
              "<Figure size 1000x500 with 1 Axes>"
            ],
            "image/png": "[encoded data removed]"
          },
          "metadata": {}
        }
      ]
    },
    {
      "cell_type": "code",
      "source": [
        "print(mse(pred(x_train, w, b), y_train))\n",
        "print(mse(pred(x_test, w, b), y_test))"
      ],
      "metadata": {
        "colab": {
          "base_uri": "https://localhost:8080/"
        },
        "id": "Ow8toGKya6bL",
        "outputId": "efb72d53-adba-453d-d852-2bd31d8d03f1"
      },
      "execution_count": 40,
      "outputs": [
        {
          "output_type": "stream",
          "name": "stdout",
          "text": [
            "1.3281632567428079\n",
            "1.3421851686638866\n"
          ]
        }
      ]
    }
  ]
}