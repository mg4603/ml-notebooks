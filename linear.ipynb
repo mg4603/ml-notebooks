{
  "nbformat": 4,
  "nbformat_minor": 0,
  "metadata": {
    "colab": {
      "provenance": []
    },
    "kernelspec": {
      "name": "python3",
      "display_name": "Python 3"
    },
    "language_info": {
      "name": "python"
    }
  },
  "cells": [
    {
      "cell_type": "code",
      "execution_count": 18,
      "metadata": {
        "id": "pv_1v2GA6YFK"
      },
      "outputs": [],
      "source": [
        "import pandas as pd\n",
        "from sklearn.datasets import fetch_california_housing\n",
        "import numpy as np\n",
        "import time\n",
        "from matplotlib import pyplot as plt"
      ]
    },
    {
      "cell_type": "code",
      "source": [
        "housing_data = fetch_california_housing(as_frame=True)"
      ],
      "metadata": {
        "id": "iUWSLyrC6i8o"
      },
      "execution_count": 19,
      "outputs": []
    },
    {
      "cell_type": "code",
      "source": [
        "df = housing_data.data\n",
        "df['target'] = housing_data.target"
      ],
      "metadata": {
        "id": "HnUE77Wl7DCq"
      },
      "execution_count": 20,
      "outputs": []
    },
    {
      "cell_type": "code",
      "source": [
        "df.head()"
      ],
      "metadata": {
        "colab": {
          "base_uri": "https://localhost:8080/",
          "height": 226
        },
        "id": "8LfJKi6p7zxf",
        "outputId": "2bd39ff9-93b9-4f40-f36b-a4015ca80079"
      },
      "execution_count": 21,
      "outputs": [
        {
          "output_type": "execute_result",
          "data": {
            "text/plain": [
              "   MedInc  HouseAge  AveRooms  AveBedrms  Population  AveOccup  Latitude  \\\n",
              "0  8.3252      41.0  6.984127   1.023810       322.0  2.555556     37.88   \n",
              "1  8.3014      21.0  6.238137   0.971880      2401.0  2.109842     37.86   \n",
              "2  7.2574      52.0  8.288136   1.073446       496.0  2.802260     37.85   \n",
              "3  5.6431      52.0  5.817352   1.073059       558.0  2.547945     37.85   \n",
              "4  3.8462      52.0  6.281853   1.081081       565.0  2.181467     37.85   \n",
              "\n",
              "   Longitude  target  \n",
              "0    -122.23   4.526  \n",
              "1    -122.22   3.585  \n",
              "2    -122.24   3.521  \n",
              "3    -122.25   3.413  \n",
              "4    -122.25   3.422  "
            ],
            "text/html": [
              "\n",
              "  <div id=\"df-35121e10-081b-45d0-86ac-dd55812fdde0\" class=\"colab-df-container\">\n",
              "    <div>\n",
              "<style scoped>\n",
              "    .dataframe tbody tr th:only-of-type {\n",
              "        vertical-align: middle;\n",
              "    }\n",
              "\n",
              "    .dataframe tbody tr th {\n",
              "        vertical-align: top;\n",
              "    }\n",
              "\n",
              "    .dataframe thead th {\n",
              "        text-align: right;\n",
              "    }\n",
              "</style>\n",
              "<table border=\"1\" class=\"dataframe\">\n",
              "  <thead>\n",
              "    <tr style=\"text-align: right;\">\n",
              "      <th></th>\n",
              "      <th>MedInc</th>\n",
              "      <th>HouseAge</th>\n",
              "      <th>AveRooms</th>\n",
              "      <th>AveBedrms</th>\n",
              "      <th>Population</th>\n",
              "      <th>AveOccup</th>\n",
              "      <th>Latitude</th>\n",
              "      <th>Longitude</th>\n",
              "      <th>target</th>\n",
              "    </tr>\n",
              "  </thead>\n",
              "  <tbody>\n",
              "    <tr>\n",
              "      <th>0</th>\n",
              "      <td>8.3252</td>\n",
              "      <td>41.0</td>\n",
              "      <td>6.984127</td>\n",
              "      <td>1.023810</td>\n",
              "      <td>322.0</td>\n",
              "      <td>2.555556</td>\n",
              "      <td>37.88</td>\n",
              "      <td>-122.23</td>\n",
              "      <td>4.526</td>\n",
              "    </tr>\n",
              "    <tr>\n",
              "      <th>1</th>\n",
              "      <td>8.3014</td>\n",
              "      <td>21.0</td>\n",
              "      <td>6.238137</td>\n",
              "      <td>0.971880</td>\n",
              "      <td>2401.0</td>\n",
              "      <td>2.109842</td>\n",
              "      <td>37.86</td>\n",
              "      <td>-122.22</td>\n",
              "      <td>3.585</td>\n",
              "    </tr>\n",
              "    <tr>\n",
              "      <th>2</th>\n",
              "      <td>7.2574</td>\n",
              "      <td>52.0</td>\n",
              "      <td>8.288136</td>\n",
              "      <td>1.073446</td>\n",
              "      <td>496.0</td>\n",
              "      <td>2.802260</td>\n",
              "      <td>37.85</td>\n",
              "      <td>-122.24</td>\n",
              "      <td>3.521</td>\n",
              "    </tr>\n",
              "    <tr>\n",
              "      <th>3</th>\n",
              "      <td>5.6431</td>\n",
              "      <td>52.0</td>\n",
              "      <td>5.817352</td>\n",
              "      <td>1.073059</td>\n",
              "      <td>558.0</td>\n",
              "      <td>2.547945</td>\n",
              "      <td>37.85</td>\n",
              "      <td>-122.25</td>\n",
              "      <td>3.413</td>\n",
              "    </tr>\n",
              "    <tr>\n",
              "      <th>4</th>\n",
              "      <td>3.8462</td>\n",
              "      <td>52.0</td>\n",
              "      <td>6.281853</td>\n",
              "      <td>1.081081</td>\n",
              "      <td>565.0</td>\n",
              "      <td>2.181467</td>\n",
              "      <td>37.85</td>\n",
              "      <td>-122.25</td>\n",
              "      <td>3.422</td>\n",
              "    </tr>\n",
              "  </tbody>\n",
              "</table>\n",
              "</div>\n",
              "    <div class=\"colab-df-buttons\">\n",
              "\n",
              "  <div class=\"colab-df-container\">\n",
              "    <button class=\"colab-df-convert\" onclick=\"convertToInteractive('df-35121e10-081b-45d0-86ac-dd55812fdde0')\"\n",
              "            title=\"Convert this dataframe to an interactive table.\"\n",
              "            style=\"display:none;\">\n",
              "\n",
              "  <svg xmlns=\"http://www.w3.org/2000/svg\" height=\"24px\" viewBox=\"0 -960 960 960\">\n",
              "    <path d=\"M120-120v-720h720v720H120Zm60-500h600v-160H180v160Zm220 220h160v-160H400v160Zm0 220h160v-160H400v160ZM180-400h160v-160H180v160Zm440 0h160v-160H620v160ZM180-180h160v-160H180v160Zm440 0h160v-160H620v160Z\"/>\n",
              "  </svg>\n",
              "    </button>\n",
              "\n",
              "  <style>\n",
              "    .colab-df-container {\n",
              "      display:flex;\n",
              "      gap: 12px;\n",
              "    }\n",
              "\n",
              "    .colab-df-convert {\n",
              "      background-color: #E8F0FE;\n",
              "      border: none;\n",
              "      border-radius: 50%;\n",
              "      cursor: pointer;\n",
              "      display: none;\n",
              "      fill: #1967D2;\n",
              "      height: 32px;\n",
              "      padding: 0 0 0 0;\n",
              "      width: 32px;\n",
              "    }\n",
              "\n",
              "    .colab-df-convert:hover {\n",
              "      background-color: #E2EBFA;\n",
              "      box-shadow: 0px 1px 2px rgba(60, 64, 67, 0.3), 0px 1px 3px 1px rgba(60, 64, 67, 0.15);\n",
              "      fill: #174EA6;\n",
              "    }\n",
              "\n",
              "    .colab-df-buttons div {\n",
              "      margin-bottom: 4px;\n",
              "    }\n",
              "\n",
              "    [theme=dark] .colab-df-convert {\n",
              "      background-color: #3B4455;\n",
              "      fill: #D2E3FC;\n",
              "    }\n",
              "\n",
              "    [theme=dark] .colab-df-convert:hover {\n",
              "      background-color: #434B5C;\n",
              "      box-shadow: 0px 1px 3px 1px rgba(0, 0, 0, 0.15);\n",
              "      filter: drop-shadow(0px 1px 2px rgba(0, 0, 0, 0.3));\n",
              "      fill: #FFFFFF;\n",
              "    }\n",
              "  </style>\n",
              "\n",
              "    <script>\n",
              "      const buttonEl =\n",
              "        document.querySelector('#df-35121e10-081b-45d0-86ac-dd55812fdde0 button.colab-df-convert');\n",
              "      buttonEl.style.display =\n",
              "        google.colab.kernel.accessAllowed ? 'block' : 'none';\n",
              "\n",
              "      async function convertToInteractive(key) {\n",
              "        const element = document.querySelector('#df-35121e10-081b-45d0-86ac-dd55812fdde0');\n",
              "        const dataTable =\n",
              "          await google.colab.kernel.invokeFunction('convertToInteractive',\n",
              "                                                    [key], {});\n",
              "        if (!dataTable) return;\n",
              "\n",
              "        const docLinkHtml = 'Like what you see? Visit the ' +\n",
              "          '<a target=\"_blank\" href=https://colab.research.google.com/notebooks/data_table.ipynb>data table notebook</a>'\n",
              "          + ' to learn more about interactive tables.';\n",
              "        element.innerHTML = '';\n",
              "        dataTable['output_type'] = 'display_data';\n",
              "        await google.colab.output.renderOutput(dataTable, element);\n",
              "        const docLink = document.createElement('div');\n",
              "        docLink.innerHTML = docLinkHtml;\n",
              "        element.appendChild(docLink);\n",
              "      }\n",
              "    </script>\n",
              "  </div>\n",
              "\n",
              "\n",
              "<div id=\"df-4c349c7a-3be4-4f96-acae-f0037b81641f\">\n",
              "  <button class=\"colab-df-quickchart\" onclick=\"quickchart('df-4c349c7a-3be4-4f96-acae-f0037b81641f')\"\n",
              "            title=\"Suggest charts\"\n",
              "            style=\"display:none;\">\n",
              "\n",
              "<svg xmlns=\"http://www.w3.org/2000/svg\" height=\"24px\"viewBox=\"0 0 24 24\"\n",
              "     width=\"24px\">\n",
              "    <g>\n",
              "        <path d=\"M19 3H5c-1.1 0-2 .9-2 2v14c0 1.1.9 2 2 2h14c1.1 0 2-.9 2-2V5c0-1.1-.9-2-2-2zM9 17H7v-7h2v7zm4 0h-2V7h2v10zm4 0h-2v-4h2v4z\"/>\n",
              "    </g>\n",
              "</svg>\n",
              "  </button>\n",
              "\n",
              "<style>\n",
              "  .colab-df-quickchart {\n",
              "      --bg-color: #E8F0FE;\n",
              "      --fill-color: #1967D2;\n",
              "      --hover-bg-color: #E2EBFA;\n",
              "      --hover-fill-color: #174EA6;\n",
              "      --disabled-fill-color: #AAA;\n",
              "      --disabled-bg-color: #DDD;\n",
              "  }\n",
              "\n",
              "  [theme=dark] .colab-df-quickchart {\n",
              "      --bg-color: #3B4455;\n",
              "      --fill-color: #D2E3FC;\n",
              "      --hover-bg-color: #434B5C;\n",
              "      --hover-fill-color: #FFFFFF;\n",
              "      --disabled-bg-color: #3B4455;\n",
              "      --disabled-fill-color: #666;\n",
              "  }\n",
              "\n",
              "  .colab-df-quickchart {\n",
              "    background-color: var(--bg-color);\n",
              "    border: none;\n",
              "    border-radius: 50%;\n",
              "    cursor: pointer;\n",
              "    display: none;\n",
              "    fill: var(--fill-color);\n",
              "    height: 32px;\n",
              "    padding: 0;\n",
              "    width: 32px;\n",
              "  }\n",
              "\n",
              "  .colab-df-quickchart:hover {\n",
              "    background-color: var(--hover-bg-color);\n",
              "    box-shadow: 0 1px 2px rgba(60, 64, 67, 0.3), 0 1px 3px 1px rgba(60, 64, 67, 0.15);\n",
              "    fill: var(--button-hover-fill-color);\n",
              "  }\n",
              "\n",
              "  .colab-df-quickchart-complete:disabled,\n",
              "  .colab-df-quickchart-complete:disabled:hover {\n",
              "    background-color: var(--disabled-bg-color);\n",
              "    fill: var(--disabled-fill-color);\n",
              "    box-shadow: none;\n",
              "  }\n",
              "\n",
              "  .colab-df-spinner {\n",
              "    border: 2px solid var(--fill-color);\n",
              "    border-color: transparent;\n",
              "    border-bottom-color: var(--fill-color);\n",
              "    animation:\n",
              "      spin 1s steps(1) infinite;\n",
              "  }\n",
              "\n",
              "  @keyframes spin {\n",
              "    0% {\n",
              "      border-color: transparent;\n",
              "      border-bottom-color: var(--fill-color);\n",
              "      border-left-color: var(--fill-color);\n",
              "    }\n",
              "    20% {\n",
              "      border-color: transparent;\n",
              "      border-left-color: var(--fill-color);\n",
              "      border-top-color: var(--fill-color);\n",
              "    }\n",
              "    30% {\n",
              "      border-color: transparent;\n",
              "      border-left-color: var(--fill-color);\n",
              "      border-top-color: var(--fill-color);\n",
              "      border-right-color: var(--fill-color);\n",
              "    }\n",
              "    40% {\n",
              "      border-color: transparent;\n",
              "      border-right-color: var(--fill-color);\n",
              "      border-top-color: var(--fill-color);\n",
              "    }\n",
              "    60% {\n",
              "      border-color: transparent;\n",
              "      border-right-color: var(--fill-color);\n",
              "    }\n",
              "    80% {\n",
              "      border-color: transparent;\n",
              "      border-right-color: var(--fill-color);\n",
              "      border-bottom-color: var(--fill-color);\n",
              "    }\n",
              "    90% {\n",
              "      border-color: transparent;\n",
              "      border-bottom-color: var(--fill-color);\n",
              "    }\n",
              "  }\n",
              "</style>\n",
              "\n",
              "  <script>\n",
              "    async function quickchart(key) {\n",
              "      const quickchartButtonEl =\n",
              "        document.querySelector('#' + key + ' button');\n",
              "      quickchartButtonEl.disabled = true;  // To prevent multiple clicks.\n",
              "      quickchartButtonEl.classList.add('colab-df-spinner');\n",
              "      try {\n",
              "        const charts = await google.colab.kernel.invokeFunction(\n",
              "            'suggestCharts', [key], {});\n",
              "      } catch (error) {\n",
              "        console.error('Error during call to suggestCharts:', error);\n",
              "      }\n",
              "      quickchartButtonEl.classList.remove('colab-df-spinner');\n",
              "      quickchartButtonEl.classList.add('colab-df-quickchart-complete');\n",
              "    }\n",
              "    (() => {\n",
              "      let quickchartButtonEl =\n",
              "        document.querySelector('#df-4c349c7a-3be4-4f96-acae-f0037b81641f button');\n",
              "      quickchartButtonEl.style.display =\n",
              "        google.colab.kernel.accessAllowed ? 'block' : 'none';\n",
              "    })();\n",
              "  </script>\n",
              "</div>\n",
              "\n",
              "    </div>\n",
              "  </div>\n"
            ],
            "application/vnd.google.colaboratory.intrinsic+json": {
              "type": "dataframe",
              "variable_name": "df",
              "summary": "{\n  \"name\": \"df\",\n  \"rows\": 20640,\n  \"fields\": [\n    {\n      \"column\": \"MedInc\",\n      \"properties\": {\n        \"dtype\": \"number\",\n        \"std\": 1.8998217179452732,\n        \"min\": 0.4999,\n        \"max\": 15.0001,\n        \"num_unique_values\": 12928,\n        \"samples\": [\n          5.0286,\n          2.0433,\n          6.1228\n        ],\n        \"semantic_type\": \"\",\n        \"description\": \"\"\n      }\n    },\n    {\n      \"column\": \"HouseAge\",\n      \"properties\": {\n        \"dtype\": \"number\",\n        \"std\": 12.585557612111637,\n        \"min\": 1.0,\n        \"max\": 52.0,\n        \"num_unique_values\": 52,\n        \"samples\": [\n          35.0,\n          25.0,\n          7.0\n        ],\n        \"semantic_type\": \"\",\n        \"description\": \"\"\n      }\n    },\n    {\n      \"column\": \"AveRooms\",\n      \"properties\": {\n        \"dtype\": \"number\",\n        \"std\": 2.4741731394243205,\n        \"min\": 0.8461538461538461,\n        \"max\": 141.9090909090909,\n        \"num_unique_values\": 19392,\n        \"samples\": [\n          6.111269614835948,\n          5.912820512820513,\n          5.7924528301886795\n        ],\n        \"semantic_type\": \"\",\n        \"description\": \"\"\n      }\n    },\n    {\n      \"column\": \"AveBedrms\",\n      \"properties\": {\n        \"dtype\": \"number\",\n        \"std\": 0.47391085679546435,\n        \"min\": 0.3333333333333333,\n        \"max\": 34.06666666666667,\n        \"num_unique_values\": 14233,\n        \"samples\": [\n          0.9906542056074766,\n          1.112099644128114,\n          1.0398230088495575\n        ],\n        \"semantic_type\": \"\",\n        \"description\": \"\"\n      }\n    },\n    {\n      \"column\": \"Population\",\n      \"properties\": {\n        \"dtype\": \"number\",\n        \"std\": 1132.4621217653375,\n        \"min\": 3.0,\n        \"max\": 35682.0,\n        \"num_unique_values\": 3888,\n        \"samples\": [\n          4169.0,\n          636.0,\n          3367.0\n        ],\n        \"semantic_type\": \"\",\n        \"description\": \"\"\n      }\n    },\n    {\n      \"column\": \"AveOccup\",\n      \"properties\": {\n        \"dtype\": \"number\",\n        \"std\": 10.386049562213591,\n        \"min\": 0.6923076923076923,\n        \"max\": 1243.3333333333333,\n        \"num_unique_values\": 18841,\n        \"samples\": [\n          2.6939799331103678,\n          3.559375,\n          3.297082228116711\n        ],\n        \"semantic_type\": \"\",\n        \"description\": \"\"\n      }\n    },\n    {\n      \"column\": \"Latitude\",\n      \"properties\": {\n        \"dtype\": \"number\",\n        \"std\": 2.1359523974571117,\n        \"min\": 32.54,\n        \"max\": 41.95,\n        \"num_unique_values\": 862,\n        \"samples\": [\n          33.7,\n          34.41,\n          38.24\n        ],\n        \"semantic_type\": \"\",\n        \"description\": \"\"\n      }\n    },\n    {\n      \"column\": \"Longitude\",\n      \"properties\": {\n        \"dtype\": \"number\",\n        \"std\": 2.003531723502581,\n        \"min\": -124.35,\n        \"max\": -114.31,\n        \"num_unique_values\": 844,\n        \"samples\": [\n          -118.63,\n          -119.86,\n          -121.26\n        ],\n        \"semantic_type\": \"\",\n        \"description\": \"\"\n      }\n    },\n    {\n      \"column\": \"target\",\n      \"properties\": {\n        \"dtype\": \"number\",\n        \"std\": 1.1539561587441483,\n        \"min\": 0.14999,\n        \"max\": 5.00001,\n        \"num_unique_values\": 3842,\n        \"samples\": [\n          1.943,\n          3.79,\n          2.301\n        ],\n        \"semantic_type\": \"\",\n        \"description\": \"\"\n      }\n    }\n  ]\n}"
            }
          },
          "metadata": {},
          "execution_count": 21
        }
      ]
    },
    {
      "cell_type": "markdown",
      "source": [
        "## Linear function\n"
      ],
      "metadata": {
        "id": "Mtowi6rLfzcD"
      }
    },
    {
      "cell_type": "code",
      "source": [
        "def linear_one_feature(x, w, b):\n",
        "  return w * x + b"
      ],
      "metadata": {
        "id": "kVcYcYWka7jb"
      },
      "execution_count": 22,
      "outputs": []
    },
    {
      "cell_type": "code",
      "source": [
        "def linear_multiple_features_non_vectorized(x, w, b):\n",
        "  if len(w) != len(x):\n",
        "    raise ValueError('the lengths of w and x_i must be the same')\n",
        "\n",
        "  return sum(x[i] * w[i] for i in range(len(w))) + b"
      ],
      "metadata": {
        "id": "rzXX_wIlcXeH"
      },
      "execution_count": 23,
      "outputs": []
    },
    {
      "cell_type": "code",
      "source": [
        "def linear_multiple_features(x, w, b):\n",
        "  return np.dot(x, w) + b"
      ],
      "metadata": {
        "id": "PC8DU_0ebSlx"
      },
      "execution_count": 24,
      "outputs": []
    },
    {
      "cell_type": "code",
      "source": [
        "def mse_non_vectorized(y_pred, y):\n",
        "  return sum((y_pred[i] - y[i]) ** 2 for i in range(len(y))) / len(y)"
      ],
      "metadata": {
        "id": "4Q-eitVLehL9"
      },
      "execution_count": 25,
      "outputs": []
    },
    {
      "cell_type": "code",
      "source": [
        "def mse(y_pred, y):\n",
        "  return np.mean((y_pred - y) ** 2)"
      ],
      "metadata": {
        "id": "NH7XfaPibhjz"
      },
      "execution_count": 26,
      "outputs": []
    },
    {
      "cell_type": "code",
      "source": [
        "def pred_non_vectorized(x, w, b):\n",
        "  y_pred = []\n",
        "  for i in range(len(x)):\n",
        "    y_pred.append(linear_multiple_features(x[i], w, b))\n",
        "  return y_pred"
      ],
      "metadata": {
        "id": "5SCKxElwaBcP"
      },
      "execution_count": 75,
      "outputs": []
    },
    {
      "cell_type": "code",
      "source": [
        "def pred(x, w, b):\n",
        "  return np.cross(x, w.T) + b"
      ],
      "metadata": {
        "id": "Ew7W7_fEhCff"
      },
      "execution_count": null,
      "outputs": []
    },
    {
      "cell_type": "markdown",
      "source": [
        "## Test previous functions\n"
      ],
      "metadata": {
        "id": "r3XQRjpye47T"
      }
    },
    {
      "cell_type": "markdown",
      "source": [
        "vectorized linear function is faster than using for loop with lists"
      ],
      "metadata": {
        "id": "xieCyt7Z_1W4"
      }
    },
    {
      "cell_type": "code",
      "source": [
        "size = 10000000\n",
        "w = np.random.rand(size)\n",
        "x = np.random.rand(size)\n",
        "b = 15\n",
        "\n",
        "\n",
        "tic = time.time()\n",
        "non_vectorized_res = linear_multiple_features_non_vectorized(w.tolist(),\n",
        "                                                              x.tolist(), b)\n",
        "toc = time.time()\n",
        "print(f'The non vectorized linear function with multiple features takes: {toc - tic}ms')\n",
        "print(f'f(wx + b) = {non_vectorized_res}')\n",
        "\n",
        "tic = time.time()\n",
        "vectorized_res = linear_multiple_features(x, w, b)\n",
        "toc = time.time()\n",
        "print(f'The vectorized linear function with multiple features takes: {toc - tic}ms')\n",
        "print(f'f(wx + b) = {vectorized_res}')\n"
      ],
      "metadata": {
        "id": "-ZP3FCvJe3-v",
        "colab": {
          "base_uri": "https://localhost:8080/"
        },
        "outputId": "d5e5885f-f14f-4e3d-e6bc-d695841dabd6"
      },
      "execution_count": 28,
      "outputs": [
        {
          "output_type": "stream",
          "name": "stdout",
          "text": [
            "The non vectorized linear function with multiple features takes: 8.38385558128357ms\n",
            "f(wx + b) = 2498933.0913590044\n",
            "The vectorized linear function with multiple features takes: 0.015665054321289062ms\n",
            "f(wx + b) = 2498933.091359015\n"
          ]
        }
      ]
    },
    {
      "cell_type": "markdown",
      "source": [
        "vectorized mse is faster than using for loop with lists"
      ],
      "metadata": {
        "id": "iwPZRwn9BERL"
      }
    },
    {
      "cell_type": "code",
      "source": [
        "y_pred = np.random.rand(size)\n",
        "y = np.random.rand(size)\n",
        "\n",
        "tic = time.time()\n",
        "j_non_vectorized = mse_non_vectorized(y_pred.tolist(), y.tolist())\n",
        "toc = time.time()\n",
        "print(f'The non vectorized mse function takes: {toc - tic}ms')\n",
        "print(f'J = {j_non_vectorized}')\n",
        "\n",
        "tic = time.time()\n",
        "j_vectorized = mse(y_pred, y)\n",
        "toc = time.time()\n",
        "print(f'The vectorized mse function takes: {toc - tic}ms')\n",
        "print(f'J = {j_vectorized}')"
      ],
      "metadata": {
        "colab": {
          "base_uri": "https://localhost:8080/"
        },
        "id": "cHADtAUzBKM3",
        "outputId": "ba34441b-050c-41ec-bdd1-587494f786f3"
      },
      "execution_count": 45,
      "outputs": [
        {
          "output_type": "stream",
          "name": "stdout",
          "text": [
            "The non vectorized mse function takes: 4.568714618682861ms\n",
            "J = 0.16665137013349243\n",
            "The vectorized mse function takes: 0.07773375511169434ms\n",
            "J = 0.16665137013349768\n"
          ]
        }
      ]
    },
    {
      "cell_type": "markdown",
      "source": [
        "## Gradient descent\n"
      ],
      "metadata": {
        "id": "LxgpP1DYdixl"
      }
    },
    {
      "cell_type": "code",
      "source": [
        "def gradient_descent_non_vectorized(x, w, b, alpha, y, epochs=1000):\n",
        "\n",
        "  m = len(x)\n",
        "  n = len(w)\n",
        "\n",
        "  cost_x = []\n",
        "  num_x_seen = []\n",
        "  if len(x[0]) != n:\n",
        "    return ValueError(\"The number of features in x must be the same as the length of w\")\n",
        "\n",
        "  for epoch in range(epochs):\n",
        "    gradient_w = [0] * n\n",
        "    gradient_b = 0\n",
        "\n",
        "    for i in range(m):\n",
        "      y_pred = linear_multiple_features_non_vectorized(x[i], w, b)\n",
        "\n",
        "      error = y_pred - y[i]\n",
        "\n",
        "      for j in range(n):\n",
        "        gradient_w[j] += error * x[i][j]\n",
        "\n",
        "      gradient_b += error\n",
        "\n",
        "    for j in range(n):\n",
        "      w[j] -= alpha * gradient_w[j] / m\n",
        "    b -= alpha * gradient_b / m\n",
        "\n",
        "    y_pred_all = pred_non_vectorized(x, w, b)\n",
        "    cost_x.append(mse_non_vectorized(y_pred_all, y))\n",
        "    num_x_seen.append(epoch + 1)\n",
        "\n",
        "\n",
        "  plt.figure(figsize=(10,5))\n",
        "  plt.plot(num_x_seen, cost_x)\n",
        "  plt.xlabel('epochs')\n",
        "  plt.ylabel('Cost')\n",
        "  plt.title('Cost vs Number of training examples seen')\n",
        "  plt.grid()\n",
        "  plt.show()\n",
        "\n",
        "  return w, b"
      ],
      "metadata": {
        "id": "ep-idpLpbqH2"
      },
      "execution_count": 65,
      "outputs": []
    },
    {
      "cell_type": "markdown",
      "source": [
        "### gradient descent vectorized"
      ],
      "metadata": {
        "id": "qApHj6sOgdnn"
      }
    },
    {
      "cell_type": "code",
      "source": [
        "def gradient_descent(x, w, b, alpha, y, epochs=1000):\n",
        "  m = x.shape[0]\n",
        "  n = w.shape[0]\n",
        "\n",
        "  if x.shape[1] != n:\n",
        "    return ValueError(\"The number of features in x must be the same as the length of w\")\n",
        "\n",
        "  cost_x = []\n",
        "  num_epochs = []\n",
        "  for epoch in range(epochs):\n",
        "    y_pred = pred(x, w, b)\n",
        "    error = y_pred - y\n",
        "\n",
        "    gradient_w = np.dot(error.T, x) / m\n",
        "    gradient_b = np.sum(error) / m\n",
        "\n",
        "    w -= alpha * gradient_w\n",
        "    b -= alpha * gradient_b\n",
        "\n",
        "    cost_x.append(mse(y_pred, y))\n",
        "    num_epochs.append(epoch + 1)\n",
        "\n",
        "  plt.figure(figsize=(10,5))\n",
        "  plt.plot(num_epochs, cost_x)\n",
        "  plt.xlabel('epochs')\n",
        "  plt.ylabel('Cost')\n",
        "  plt.title('Cost vs Number of training examples seen')\n",
        "\n",
        "\n",
        "  return w, b"
      ],
      "metadata": {
        "id": "QmerB_dKggdC"
      },
      "execution_count": 81,
      "outputs": []
    },
    {
      "cell_type": "markdown",
      "source": [
        "# normalize data"
      ],
      "metadata": {
        "id": "QhIgT1fEfp-5"
      }
    },
    {
      "cell_type": "code",
      "source": [
        "def normalize(df):\n",
        "  for col in df.columns:\n",
        "    df[col] = (df[col] - df[col].mean()) / df[col].std()\n",
        "  return df"
      ],
      "metadata": {
        "id": "Crg8kyYsfsRf"
      },
      "execution_count": 69,
      "outputs": []
    },
    {
      "cell_type": "markdown",
      "source": [
        "## train test split\n"
      ],
      "metadata": {
        "id": "lcqCvbhngUjJ"
      }
    },
    {
      "cell_type": "code",
      "source": [
        "def train_test_split_df(x, y, split = 0.1):\n",
        "  train_size = int((1 - split) * len(x))\n",
        "  x_train = x.values[:train_size]\n",
        "  x_test = x.values[train_size:]\n",
        "  y_train = y.values[:train_size]\n",
        "  y_test = y.values[train_size:]\n",
        "  return x_train, x_test, y_train, y_test"
      ],
      "metadata": {
        "id": "Nyx9qnUDPiwi"
      },
      "execution_count": 49,
      "outputs": []
    },
    {
      "cell_type": "code",
      "source": [
        "split = 0.2\n",
        "df = df.sample(frac=1)\n",
        "\n",
        "df = normalize(df)\n",
        "\n",
        "x = df.iloc[:, :-1]\n",
        "y = df.iloc[:, -1]\n",
        "\n",
        "x_train, x_test, y_train, y_test = train_test_split_df(x, y, split)\n",
        "n = x_train.shape[1]"
      ],
      "metadata": {
        "id": "2Klvs_s-c4ar"
      },
      "execution_count": 70,
      "outputs": []
    },
    {
      "cell_type": "markdown",
      "source": [
        "# Train model"
      ],
      "metadata": {
        "id": "S30GMyTZgYUF"
      }
    },
    {
      "cell_type": "code",
      "source": [
        "learning_rate = 0.001\n",
        "w = [0] * n\n",
        "b = 0\n",
        "w, b = gradient_descent_non_vectorized(x_train.tolist(), w, b, learning_rate, y_train.tolist(), 10000)"
      ],
      "metadata": {
        "colab": {
          "base_uri": "https://localhost:8080/",
          "height": 507
        },
        "id": "iKVoQuRaO_eb",
        "outputId": "fc034a41-a8b7-4ca4-f65e-bfe0dc4865c5"
      },
      "execution_count": 77,
      "outputs": [
        {
          "output_type": "display_data",
          "data": {
            "text/plain": [
              "<Figure size 1000x500 with 1 Axes>"
            ],
            "image/png": "[encoded data removed]"
          },
          "metadata": {}
        }
      ]
    },
    {
      "cell_type": "code",
      "source": [
        "print(mse_non_vectorized(pred_non_vectorized(x_train, w, b), y_train))\n",
        "print(mse_non_vectorized(pred_non_vectorized(x_test, w, b), y_test))\n"
      ],
      "metadata": {
        "colab": {
          "base_uri": "https://localhost:8080/"
        },
        "id": "qd4m3JJEeMl1",
        "outputId": "730a0133-1f1c-4be4-d4ed-5b5c9dedc7d7"
      },
      "execution_count": 78,
      "outputs": [
        {
          "output_type": "stream",
          "name": "stdout",
          "text": [
            "0.41590892599275475\n",
            "0.409191950048656\n"
          ]
        }
      ]
    },
    {
      "cell_type": "markdown",
      "source": [
        "### vectorized"
      ],
      "metadata": {
        "id": "oaiqCt7Xgnjl"
      }
    },
    {
      "cell_type": "code",
      "source": [
        "learning_rate = 0.001\n",
        "w = np.zeros(n)\n",
        "b = 0\n",
        "w, b = gradient_descent(x_train, w, b, learning_rate, y_train, 10000)"
      ],
      "metadata": {
        "colab": {
          "base_uri": "https://localhost:8080/",
          "height": 507
        },
        "id": "bEUV4LQmgzFe",
        "outputId": "e72a40ba-0e58-4f70-8221-11f0b8f16d7d"
      },
      "execution_count": 85,
      "outputs": [
        {
          "output_type": "display_data",
          "data": {
            "text/plain": [
              "<Figure size 1000x500 with 1 Axes>"
            ],
            "image/png": "[encoded data removed]"
          },
          "metadata": {}
        }
      ]
    },
    {
      "cell_type": "code",
      "source": [
        "print(mse_non_vectorized(pred(x_train, w, b), y_train))\n",
        "print(mse_non_vectorized(pred(x_test, w, b), y_test))\n"
      ],
      "metadata": {
        "colab": {
          "base_uri": "https://localhost:8080/"
        },
        "id": "cvixjy-Tgv_C",
        "outputId": "19d5df21-7631-42fe-9c41-d50141fe6e65"
      },
      "execution_count": 86,
      "outputs": [
        {
          "output_type": "stream",
          "name": "stdout",
          "text": [
            "0.41590892599275475\n",
            "0.40919195004865594\n"
          ]
        }
      ]
    }
  ]
}